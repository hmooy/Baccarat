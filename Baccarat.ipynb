{
 "cells": [
  {
   "cell_type": "code",
   "execution_count": 168,
   "metadata": {},
   "outputs": [],
   "source": [
    "from random import shuffle\n",
    "def deck_numerical():\n",
    "    \n",
    "    deck = []\n",
    "    eight_decks = []\n",
    "    \n",
    "    for i in range(1,10):\n",
    "        deck.append(i)\n",
    "        deck.append(i)\n",
    "        deck.append(i)\n",
    "        deck.append(i)\n",
    "    \n",
    "    x = 10\n",
    "    for i in range(16):\n",
    "        deck.append(x)\n",
    "    \n",
    "    return deck"
   ]
  },
  {
   "cell_type": "code",
   "execution_count": 169,
   "metadata": {},
   "outputs": [],
   "source": [
    "eight_decks = deck_numerical()*8\n",
    "\n",
    "random.shuffle(eight_decks)\n",
    "\n",
    "\n"
   ]
  },
  {
   "cell_type": "code",
   "execution_count": 170,
   "metadata": {},
   "outputs": [],
   "source": [
    "def two_cards(card1, card2):\n",
    "    \n",
    "    if card1 == 10:\n",
    "        card1 = 0\n",
    "    if card2 == 10:\n",
    "        card2 = 0\n",
    "    total = card1 + card2\n",
    "    \n",
    "    return total"
   ]
  },
  {
   "cell_type": "code",
   "execution_count": 171,
   "metadata": {},
   "outputs": [],
   "source": [
    "def tableau():\n",
    "    \n",
    "    player_card1 = eight_decks.pop()\n",
    "    bank_card1 = eight_decks.pop()\n",
    "    player_card2 = eight_decks.pop()\n",
    "    bank_card2 = eight_decks.pop()\n",
    "    \n",
    "    player_two_cards = two_cards(player_card1, player_card2)\n",
    "    bank_two_cards = two_cards(bank_card1, bank_card2)\n",
    "    \n",
    "    if player_two_cards > bank_two_cards:\n",
    "        result = 1\n",
    "    else:\n",
    "        result = 0\n",
    "\n",
    "    return result\n",
    "    "
   ]
  },
  {
   "cell_type": "code",
   "execution_count": 172,
   "metadata": {},
   "outputs": [],
   "source": [
    "def start(n):\n",
    "    \n",
    "    x = []\n",
    "    \n",
    "    for i in range(n):\n",
    "        z = tableau()\n",
    "        x.append(z)\n",
    "    \n",
    "    return x"
   ]
  },
  {
   "cell_type": "code",
   "execution_count": 173,
   "metadata": {},
   "outputs": [
    {
     "data": {
      "text/plain": [
       "[1, 0, 1, 0, 0, 0, 1, 1, 0, 1]"
      ]
     },
     "execution_count": 173,
     "metadata": {},
     "output_type": "execute_result"
    }
   ],
   "source": [
    "start(10)"
   ]
  },
  {
   "cell_type": "code",
   "execution_count": null,
   "metadata": {},
   "outputs": [],
   "source": []
  }
 ],
 "metadata": {
  "kernelspec": {
   "display_name": "Python 3",
   "language": "python",
   "name": "python3"
  },
  "language_info": {
   "codemirror_mode": {
    "name": "ipython",
    "version": 3
   },
   "file_extension": ".py",
   "mimetype": "text/x-python",
   "name": "python",
   "nbconvert_exporter": "python",
   "pygments_lexer": "ipython3",
   "version": "3.7.5"
  }
 },
 "nbformat": 4,
 "nbformat_minor": 2
}
