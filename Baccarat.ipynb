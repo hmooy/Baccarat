{
  "nbformat": 4,
  "nbformat_minor": 0,
  "metadata": {
    "kernelspec": {
      "display_name": "Python 3",
      "language": "python",
      "name": "python3"
    },
    "language_info": {
      "codemirror_mode": {
        "name": "ipython",
        "version": 3
      },
      "file_extension": ".py",
      "mimetype": "text/x-python",
      "name": "python",
      "nbconvert_exporter": "python",
      "pygments_lexer": "ipython3",
      "version": "3.7.5"
    },
    "colab": {
      "name": "Baccarat.ipynb",
      "provenance": []
    }
  },
  "cells": [
    {
      "cell_type": "code",
      "metadata": {
        "id": "WnQPWQ3kQGf1",
        "colab_type": "code",
        "colab": {}
      },
      "source": [
        "import random\n",
        "import numpy as np\n",
        "import pandas as pd\n",
        "import matplotlib.pyplot as plt\n",
        "from random import shuffle\n",
        "\n",
        "def game():\n",
        "  deck = deck_numerical()\n",
        "  shuffled_deck = shuffled(deck)\n",
        "  z = []\n",
        "  burn_card = card(shuffled_deck)\n",
        "\n",
        "  while len(shuffled_deck) > 20:\n",
        "    \n",
        "    player_card1 = card(shuffled_deck)\n",
        "    bank_card1 = card(shuffled_deck)\n",
        "    player_card2 = card(shuffled_deck)\n",
        "    bank_card2 = card(shuffled_deck)\n",
        "    \n",
        "    player_two_cards = two_cards(player_card1, player_card2)\n",
        "    bank_two_cards = two_cards(bank_card1, bank_card2)\n",
        "\n",
        "    x = tableau(player_two_cards, bank_two_cards, shuffled_deck)\n",
        "    \n",
        "    z.append(x)\n",
        "      \n",
        "  return z\n",
        "\n",
        "  \n"
      ],
      "execution_count": 0,
      "outputs": []
    },
    {
      "cell_type": "code",
      "metadata": {
        "id": "fPvJud9bTj8w",
        "colab_type": "code",
        "colab": {}
      },
      "source": [
        "def deck_numerical():\n",
        "    \n",
        "    deck = []\n",
        "    \n",
        "    \n",
        "    for i in range(1,10):\n",
        "        deck.append(i)\n",
        "        deck.append(i)\n",
        "        deck.append(i)\n",
        "        deck.append(i)\n",
        "    \n",
        "    x = 10\n",
        "    for i in range(16):\n",
        "        deck.append(x)\n",
        "    \n",
        "    return deck\n",
        "  "
      ],
      "execution_count": 0,
      "outputs": []
    },
    {
      "cell_type": "code",
      "metadata": {
        "id": "pGwlWPf_QGf5",
        "colab_type": "code",
        "colab": {}
      },
      "source": [
        "\n",
        "def shuffled(d):\n",
        "\n",
        "    eight_decks = []\n",
        "\n",
        "    eight_decks = d*8\n",
        "\n",
        "    random.shuffle(eight_decks)\n",
        "\n",
        "    return eight_decks\n"
      ],
      "execution_count": 0,
      "outputs": []
    },
    {
      "cell_type": "code",
      "metadata": {
        "id": "pKX3-qSqX1pX",
        "colab_type": "code",
        "colab": {}
      },
      "source": [
        "def card(shuffled_deck):\n",
        "\n",
        "  card = shuffled_deck.pop()\n",
        "  if card == 10:\n",
        "    card = 0\n",
        "\n",
        "  return card\n"
      ],
      "execution_count": 0,
      "outputs": []
    },
    {
      "cell_type": "code",
      "metadata": {
        "id": "2Ctarf7eQGf8",
        "colab_type": "code",
        "colab": {}
      },
      "source": [
        "def two_cards(card1, card2):\n",
        "    \n",
        "    total = card1 + card2\n",
        "    if total >= 10:\n",
        "      total = total - 10\n",
        "    \n",
        "    return total\n"
      ],
      "execution_count": 0,
      "outputs": []
    },
    {
      "cell_type": "code",
      "metadata": {
        "id": "Yl1tcJtkZi3c",
        "colab_type": "code",
        "colab": {}
      },
      "source": [
        "def cards_result(p, b):\n",
        "  \n",
        "  if p >= 10:\n",
        "    p = p - 10\n",
        "  if b >= 10:\n",
        "    b = b - 10\n",
        "\n",
        "  if p > b:\n",
        "    result = 1\n",
        "  if p < b:\n",
        "    result = -1\n",
        "  elif p == b:\n",
        "    result = 0\n",
        "  \n",
        "  \n",
        "  return result"
      ],
      "execution_count": 0,
      "outputs": []
    },
    {
      "cell_type": "code",
      "metadata": {
        "id": "NwwTYkIpQGf9",
        "colab_type": "code",
        "colab": {}
      },
      "source": [
        "def tableau(p, b, s):\n",
        "    \n",
        "    #Natural\n",
        "     # Natural\n",
        "    if p in (8, 9) or b in(8, 9):\n",
        "     \n",
        "      return cards_result(p, b)\n",
        "      \n",
        "\n",
        "    # Player Six - Seven\n",
        "    elif p in (7, 6) and b in (7,6):\n",
        "      return cards_result(p, b)\n",
        "    elif p in (7, 6) and b in (5,4,3,2,1,0):\n",
        "      bank_3_cards = b + card(s)\n",
        "      if bank_3_cards >= 10:\n",
        "        bank_3_cards = bank_3_cards - 10\n",
        "        return cards_result(p, bank_3_cards)\n",
        "      else :\n",
        "        return cards_result(p, bank_3_cards)\n",
        "      \n",
        "    # Player 0 - 5\n",
        "    elif p <= 5:\n",
        "      player_3_cards = p + card(s)\n",
        "       \n",
        "      if b == 7:\n",
        "        \n",
        "        return cards_result(player_3_cards, b)\n",
        "      \n",
        "      elif b in (0,1,2):\n",
        "        bank_3_cards = b + card(s)\n",
        "        \n",
        "        return cards_result(player_3_cards, bank_3_cards)\n",
        "      \n",
        "      elif b == 3:\n",
        "        if player_3_cards != 8:\n",
        "          bank_3_cards = b + card(s)\n",
        "          \n",
        "          return cards_result(player_3_cards, bank_3_cards)\n",
        "        else :\n",
        "          \n",
        "          return cards_result(player_3_cards, b)\n",
        "      \n",
        "      elif b == 4:\n",
        "        if player_3_cards in (2,3,4,5,6,7):\n",
        "          bank_3_cards = b + card(s)\n",
        "          \n",
        "          return cards_result(player_3_cards, bank_3_cards)\n",
        "        else :\n",
        "          \n",
        "          return cards_result(player_3_cards, b)\n",
        "     \n",
        "      elif b == 5:\n",
        "        if player_3_cards in (4,5,6,7):\n",
        "          bank_3_cards = b + card(s)\n",
        "          \n",
        "          return cards_result(player_3_cards, bank_3_cards)\n",
        "        else :\n",
        "          \n",
        "          return cards_result(player_3_cards, b)\n",
        "     \n",
        "      elif b == 6:\n",
        "        if player_3_cards in (6,7):\n",
        "          bank_3_cards = b + card(s)\n",
        "          \n",
        "          return cards_result(player_3_cards, bank_3_cards)\n",
        "        else :\n",
        "          \n",
        "          return cards_result(player_3_cards, b)\n",
        "\n",
        "      \n",
        "          \n",
        "\n",
        "    "
      ],
      "execution_count": 0,
      "outputs": []
    },
    {
      "cell_type": "code",
      "metadata": {
        "id": "Gy4IF-RNYgvJ",
        "colab_type": "code",
        "colab": {}
      },
      "source": [
        "def sampling(n):\n",
        "  \n",
        "  total_player = []\n",
        "  total_banker = []\n",
        "  total_tie = []\n",
        "  player_win = 0\n",
        "  bank_win = 0\n",
        "  tie_shoe = 0\n",
        "  \n",
        "  for i in range(n):\n",
        "    \n",
        "    # one game = one shoe\n",
        "    y = game()\n",
        "    p = y.count(1)\n",
        "    b = y.count(-1)\n",
        "    t = y.count(0)\n",
        "    \n",
        "    total_player.append(p)\n",
        "    total_banker.append(b)\n",
        "    total_tie.append(t)\n",
        "\n",
        "    if p > b : \n",
        "      player_win += 1\n",
        "    elif b > p :\n",
        "      bank_win += 1\n",
        "    else :\n",
        "      tie_shoe += 1\n",
        "\n",
        "  \n",
        "\n",
        "\n",
        "  return (total_player, total_banker, total_tie, player_win, bank_win, tie_shoe)"
      ],
      "execution_count": 0,
      "outputs": []
    },
    {
      "cell_type": "code",
      "metadata": {
        "id": "Aplc6AD2Zvf4",
        "colab_type": "code",
        "colab": {}
      },
      "source": [
        "n = 50000\n",
        "a = sampling(50000)\n",
        "\n"
      ],
      "execution_count": 0,
      "outputs": []
    },
    {
      "cell_type": "code",
      "metadata": {
        "id": "wMTQ2RHlfMid",
        "colab_type": "code",
        "outputId": "a70692f8-5319-4b47-f5f9-5384adf7f724",
        "colab": {
          "base_uri": "https://localhost:8080/",
          "height": 367
        }
      },
      "source": [
        "colors = ['blue', 'red']\n",
        "plt.hist(a[0:2], bins = 10, color = colors)"
      ],
      "execution_count": 27,
      "outputs": [
        {
          "output_type": "execute_result",
          "data": {
            "text/plain": [
              "([array([1.2000e+01, 1.8400e+02, 1.7120e+03, 7.9160e+03, 1.5984e+04,\n",
              "         1.5381e+04, 7.0500e+03, 1.5850e+03, 1.7000e+02, 6.0000e+00]),\n",
              "  array([2.0000e+00, 1.1800e+02, 1.2580e+03, 6.6690e+03, 1.4815e+04,\n",
              "         1.6147e+04, 8.4920e+03, 2.1950e+03, 2.8500e+02, 1.9000e+01])],\n",
              " array([17. , 20.9, 24.8, 28.7, 32.6, 36.5, 40.4, 44.3, 48.2, 52.1, 56. ]),\n",
              " <a list of 2 Lists of Patches objects>)"
            ]
          },
          "metadata": {
            "tags": []
          },
          "execution_count": 27
        },
        {
          "output_type": "display_data",
          "data": {
            "image/png": "[encoded data removed]",
            "text/plain": [
              "<Figure size 432x288 with 1 Axes>"
            ]
          },
          "metadata": {
            "tags": []
          }
        }
      ]
    },
    {
      "cell_type": "markdown",
      "metadata": {
        "id": "kHUzqSWNy6dE",
        "colab_type": "text"
      },
      "source": [
        "From this plot it can be seen that Banker has greater frequencies in winning. (after 40). Where as, players usually has the lower frequencies. The first half (less than 40). The game is in favour of Banker."
      ]
    },
    {
      "cell_type": "code",
      "metadata": {
        "id": "An1V-cNE0rtj",
        "colab_type": "code",
        "colab": {}
      },
      "source": [
        "colors_three = ['blue', 'red', 'orange']\n",
        "\n",
        "df = pd.DataFrame({\n",
        "    'Player':[a[3]],\n",
        "    'Banker':[a[4]],\n",
        "    'Tie':[a[5]]\n",
        "})"
      ],
      "execution_count": 0,
      "outputs": []
    },
    {
      "cell_type": "code",
      "metadata": {
        "id": "UVvYt9on1dBI",
        "colab_type": "code",
        "outputId": "27fee850-722f-42ca-8a17-b813c5305ac9",
        "colab": {
          "base_uri": "https://localhost:8080/",
          "height": 276
        }
      },
      "source": [
        "df.plot(kind = 'bar', color = colors_three)\n",
        "plt.xlabel('Player, Banker and Tie')\n",
        "plt.ylabel('Total')\n",
        "plt.show()"
      ],
      "execution_count": 29,
      "outputs": [
        {
          "output_type": "display_data",
          "data": {
            "image/png": "[encoded data removed]",
            "text/plain": [
              "<Figure size 432x288 with 1 Axes>"
            ]
          },
          "metadata": {
            "tags": []
          }
        }
      ]
    },
    {
      "cell_type": "code",
      "metadata": {
        "id": "0v2Cg24f4K2K",
        "colab_type": "code",
        "outputId": "41550c59-ec29-46ce-8569-fe579a7d89e0",
        "colab": {
          "base_uri": "https://localhost:8080/",
          "height": 68
        }
      },
      "source": [
        "expected_player = a[3]/n\n",
        "expected_banker = a[4]/n\n",
        "expected_tie = a[5]/n\n",
        "\n",
        "print(expected_player)\n",
        "print(expected_banker)\n",
        "print(expected_tie)"
      ],
      "execution_count": 30,
      "outputs": [
        {
          "output_type": "stream",
          "text": [
            "0.44586\n",
            "0.50774\n",
            "0.0464\n"
          ],
          "name": "stdout"
        }
      ]
    },
    {
      "cell_type": "markdown",
      "metadata": {
        "id": "9wXVhOV2AcjA",
        "colab_type": "text"
      },
      "source": [
        "Lets compare the results by looking the total number of hands"
      ]
    },
    {
      "cell_type": "code",
      "metadata": {
        "id": "3LbsXkM862Ub",
        "colab_type": "code",
        "outputId": "39e5b2c8-2da7-4a26-dccc-158336462802",
        "colab": {
          "base_uri": "https://localhost:8080/",
          "height": 136
        }
      },
      "source": [
        "total_hands = sum(a[0]) + sum(a[1]) + sum(a[2])\n",
        "print(\"total number of hands is \" + str(total_hands))\n",
        "\n",
        "#looking at all hand\n",
        "total_players_won = sum(a[0])\n",
        "print(\"total number of hands player won is \" + str(total_players_won))\n",
        "\n",
        "total_bankers_won = sum(a[1])\n",
        "print(\"total number of hands banker won is \" + str(total_bankers_won))\n",
        "\n",
        "total_tie_won = sum(a[2])\n",
        "print(\"total number of tie hand won is \" + str(total_tie_won))\n",
        "\n",
        "#expected return\n",
        "\n",
        "exp_player = total_players_won / total_hands\n",
        "print(\"player = \" + str(exp_player))\n",
        "\n",
        "exp_banker = total_bankers_won / total_hands\n",
        "print(\"banker = \" + str(exp_banker))\n",
        "\n",
        "exp_tie = total_tie_won / total_hands\n",
        "print(\"tie = \" + str(exp_tie))\n"
      ],
      "execution_count": 31,
      "outputs": [
        {
          "output_type": "stream",
          "text": [
            "total number of hands is 4013409\n",
            "total number of hands player won is 1816749\n",
            "total number of hands banker won is 1850564\n",
            "total number of tie hand won is 346096\n",
            "player = 0.4526697877041687\n",
            "banker = 0.46109529330302496\n",
            "tie = 0.08623491899280636\n"
          ],
          "name": "stdout"
        }
      ]
    },
    {
      "cell_type": "code",
      "metadata": {
        "id": "xWgGDqRm77-m",
        "colab_type": "code",
        "colab": {}
      },
      "source": [
        "df2 = pd.DataFrame({\n",
        "    'Player' : [sum(a[0])],\n",
        "    'Banker' : [sum(a[1])],\n",
        "    'Tie' : [sum(a[2])]\n",
        "})"
      ],
      "execution_count": 0,
      "outputs": []
    },
    {
      "cell_type": "code",
      "metadata": {
        "id": "ZQKyHvuJ8gsn",
        "colab_type": "code",
        "outputId": "8ff35a16-b830-4a6d-c6c9-ce693801b79d",
        "colab": {
          "base_uri": "https://localhost:8080/",
          "height": 262
        }
      },
      "source": [
        "df2.plot(kind = 'bar',color = colors_three)\n",
        "plt.show()"
      ],
      "execution_count": 33,
      "outputs": [
        {
          "output_type": "display_data",
          "data": {
            "image/png": "[encoded data removed]",
            "text/plain": [
              "<Figure size 432x288 with 1 Axes>"
            ]
          },
          "metadata": {
            "tags": []
          }
        }
      ]
    },
    {
      "cell_type": "code",
      "metadata": {
        "id": "OcSaNfl0dNoG",
        "colab_type": "code",
        "colab": {}
      },
      "source": [
        ""
      ],
      "execution_count": 0,
      "outputs": []
    }
  ]
}