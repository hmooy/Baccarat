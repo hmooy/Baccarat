{
  "nbformat": 4,
  "nbformat_minor": 0,
  "metadata": {
    "kernelspec": {
      "display_name": "Python 3",
      "language": "python",
      "name": "python3"
    },
    "language_info": {
      "codemirror_mode": {
        "name": "ipython",
        "version": 3
      },
      "file_extension": ".py",
      "mimetype": "text/x-python",
      "name": "python",
      "nbconvert_exporter": "python",
      "pygments_lexer": "ipython3",
      "version": "3.7.5"
    },
    "colab": {
      "name": "Baccarat.ipynb",
      "provenance": []
    }
  },
  "cells": [
    {
      "cell_type": "code",
      "metadata": {
        "id": "glBu0NKpDH7G",
        "colab_type": "code",
        "colab": {}
      },
      "source": [
        "import random\n",
        "from random import shuffle\n",
        "def deck_numerical():\n",
        "    \n",
        "    deck = []\n",
        "    eight_decks = []\n",
        "    \n",
        "    for i in range(1,10):\n",
        "        deck.append(i)\n",
        "        deck.append(i)\n",
        "        deck.append(i)\n",
        "        deck.append(i)\n",
        "    \n",
        "    x = 10\n",
        "    for i in range(16):\n",
        "        deck.append(x)\n",
        "    \n",
        "    return deck\n",
        "\n",
        "eight_decks = deck_numerical()*8\n",
        "\n",
        "random.shuffle(eight_decks)\n",
        "\n",
        "def card():\n",
        "  card = eight_decks.pop()\n",
        "\n",
        "  if card == 10:\n",
        "    card = 0\n",
        "\n",
        "  return card"
      ],
      "execution_count": 0,
      "outputs": []
    },
    {
      "cell_type": "code",
      "metadata": {
        "id": "e7KfH036DH7N",
        "colab_type": "code",
        "colab": {}
      },
      "source": [
        "def two_cards(card1, card2):\n",
        "    \n",
        "    if card1 == 10:\n",
        "        card1 = 0\n",
        "    if card2 == 10:\n",
        "        card2 = 0\n",
        "    total = card1 + card2\n",
        "    \n",
        "    return total\n",
        "\n",
        "def cards_result(p, b):\n",
        "  if p > b:\n",
        "      result = 1            \n",
        "  elif p == b:\n",
        "      result = 0\n",
        "  else :\n",
        "    result = -1\n",
        "    \n",
        "  return result"
      ],
      "execution_count": 0,
      "outputs": []
    },
    {
      "cell_type": "code",
      "metadata": {
        "id": "2rT24niJcO-h",
        "colab_type": "code",
        "colab": {}
      },
      "source": [
        "def tableau():\n",
        "\n",
        "    player_card1 = card()\n",
        "    bank_card1 = card()\n",
        "    player_card2 = card()\n",
        "    bank_card2 = card()\n",
        "\n",
        "    player_two_cards = two_cards(player_card1, player_card2)\n",
        "    bank_two_cards = two_cards(bank_card1, bank_card2)\n",
        "\n",
        "     # Natural\n",
        "    if player_two_cards in (8, 9) or bank_two_cards in(8, 9):\n",
        "      x = cards_result(player_two_cards, bank_two_cards)\n",
        "      \n",
        "\n",
        "    # Player Six - Seven\n",
        "    elif player_two_cards in (7, 6):\n",
        "      if bank_two_cards in (7,6):\n",
        "        x = cards_result(player_two_cards, bank_two_cards)\n",
        "      elif bank_two_cards <= 5:\n",
        "        bank_3_cards = bank_two_cards + card()\n",
        "        x = cards_result(player_two_cards, bank_3_cards)\n",
        "      \n",
        "    # Player 0 - 5\n",
        "    elif player_two_cards <= 5:\n",
        "      player_3_cards = player_two_cards + card()\n",
        "       \n",
        "      if bank_two_cards == 7:\n",
        "        x = cards_result(player_3_cards, bank_two_cards)\n",
        "      \n",
        "      elif bank_two_cards in (0,1,2):\n",
        "        bank_3_cards = bank_two_cards + card()\n",
        "        x = cards_result(player_3_cards, bank_3_cards)\n",
        "      \n",
        "      elif bank_two_cards == 3:\n",
        "        if player_3_cards != 8:\n",
        "          bank_3_cards = bank_two_cards + card()\n",
        "          x = cards_result(player_3_cards, bank_3_cards)\n",
        "        else :\n",
        "          x = cards_result(player_3_cards, bank_two_cards)\n",
        "      \n",
        "      elif bank_two_cards == 4:\n",
        "        if player_3_cards in (2,3,4,5,6,7):\n",
        "          bank_3_cards = bank_two_cards + card()\n",
        "          x = cards_result(player_3_cards, bank_3_cards)\n",
        "        else :\n",
        "          x = cards_result(player_3_cards, bank_two_cards)\n",
        "     \n",
        "      elif bank_two_cards == 5:\n",
        "        if player_3_cards in (4,5,6,7):\n",
        "          bank_3_cards = bank_two_cards + card()\n",
        "          x = cards_result(player_3_cards, bank_3_cards)\n",
        "        else :\n",
        "          x = cards_result(player_3_cards, bank_two_cards)\n",
        "     \n",
        "      elif bank_two_cards == 6:\n",
        "        if player_3_cards in (6,7):\n",
        "          bank_3_cards = bank_two_cards + card()\n",
        "          x = cards_result(player_3_cards, bank_3_cards)\n",
        "        else :\n",
        "          x = cards_result(player_3_cards, bank_two_cards)\n",
        "          \n",
        "    return x\n",
        "\n",
        "    \n",
        "\n",
        "      \n",
        "\n",
        "\n",
        "\n",
        "\n",
        "\n"
      ],
      "execution_count": 0,
      "outputs": []
    },
    {
      "cell_type": "code",
      "metadata": {
        "id": "MrmrqZqwDH7R",
        "colab_type": "code",
        "colab": {}
      },
      "source": [
        "def start(n):\n",
        "    \n",
        "    w = []\n",
        "    \n",
        "    for i in range(n):\n",
        "        z = tableau()\n",
        "        print(\"b\")\n",
        "        w.append(z)\n",
        "    \n",
        "    return w"
      ],
      "execution_count": 0,
      "outputs": []
    },
    {
      "cell_type": "code",
      "metadata": {
        "id": "fwv6USVXDH7T",
        "colab_type": "code",
        "colab": {
          "base_uri": "https://localhost:8080/",
          "height": 511
        },
        "outputId": "a3520d25-71e7-4ccf-99e8-3075904193c6"
      },
      "source": [
        "start(10)"
      ],
      "execution_count": 138,
      "outputs": [
        {
          "output_type": "stream",
          "text": [
            "b\n",
            "b\n",
            "b\n",
            "b\n",
            "b\n"
          ],
          "name": "stdout"
        },
        {
          "output_type": "error",
          "ename": "UnboundLocalError",
          "evalue": "ignored",
          "traceback": [
            "\u001b[0;31m---------------------------------------------------------------------------\u001b[0m",
            "\u001b[0;31mUnboundLocalError\u001b[0m                         Traceback (most recent call last)",
            "\u001b[0;32m<ipython-input-138-6ad50d5f6f48>\u001b[0m in \u001b[0;36m<module>\u001b[0;34m()\u001b[0m\n\u001b[0;32m----> 1\u001b[0;31m \u001b[0mstart\u001b[0m\u001b[0;34m(\u001b[0m\u001b[0;36m10\u001b[0m\u001b[0;34m)\u001b[0m\u001b[0;34m\u001b[0m\u001b[0;34m\u001b[0m\u001b[0m\n\u001b[0m",
            "\u001b[0;32m<ipython-input-137-8046de5b3b3d>\u001b[0m in \u001b[0;36mstart\u001b[0;34m(n)\u001b[0m\n\u001b[1;32m      4\u001b[0m \u001b[0;34m\u001b[0m\u001b[0m\n\u001b[1;32m      5\u001b[0m     \u001b[0;32mfor\u001b[0m \u001b[0mi\u001b[0m \u001b[0;32min\u001b[0m \u001b[0mrange\u001b[0m\u001b[0;34m(\u001b[0m\u001b[0mn\u001b[0m\u001b[0;34m)\u001b[0m\u001b[0;34m:\u001b[0m\u001b[0;34m\u001b[0m\u001b[0;34m\u001b[0m\u001b[0m\n\u001b[0;32m----> 6\u001b[0;31m         \u001b[0mz\u001b[0m \u001b[0;34m=\u001b[0m \u001b[0mtableau\u001b[0m\u001b[0;34m(\u001b[0m\u001b[0;34m)\u001b[0m\u001b[0;34m\u001b[0m\u001b[0;34m\u001b[0m\u001b[0m\n\u001b[0m\u001b[1;32m      7\u001b[0m         \u001b[0mprint\u001b[0m\u001b[0;34m(\u001b[0m\u001b[0;34m\"b\"\u001b[0m\u001b[0;34m)\u001b[0m\u001b[0;34m\u001b[0m\u001b[0;34m\u001b[0m\u001b[0m\n\u001b[1;32m      8\u001b[0m         \u001b[0mw\u001b[0m\u001b[0;34m.\u001b[0m\u001b[0mappend\u001b[0m\u001b[0;34m(\u001b[0m\u001b[0mz\u001b[0m\u001b[0;34m)\u001b[0m\u001b[0;34m\u001b[0m\u001b[0;34m\u001b[0m\u001b[0m\n",
            "\u001b[0;32m<ipython-input-136-cada25590889>\u001b[0m in \u001b[0;36mtableau\u001b[0;34m()\u001b[0m\n\u001b[1;32m     61\u001b[0m           \u001b[0mx\u001b[0m \u001b[0;34m=\u001b[0m \u001b[0mcards_result\u001b[0m\u001b[0;34m(\u001b[0m\u001b[0mplayer_3_cards\u001b[0m\u001b[0;34m,\u001b[0m \u001b[0mbank_two_cards\u001b[0m\u001b[0;34m)\u001b[0m\u001b[0;34m\u001b[0m\u001b[0;34m\u001b[0m\u001b[0m\n\u001b[1;32m     62\u001b[0m \u001b[0;34m\u001b[0m\u001b[0m\n\u001b[0;32m---> 63\u001b[0;31m     \u001b[0;32mreturn\u001b[0m \u001b[0mx\u001b[0m\u001b[0;34m\u001b[0m\u001b[0;34m\u001b[0m\u001b[0m\n\u001b[0m\u001b[1;32m     64\u001b[0m \u001b[0;34m\u001b[0m\u001b[0m\n\u001b[1;32m     65\u001b[0m \u001b[0;34m\u001b[0m\u001b[0m\n",
            "\u001b[0;31mUnboundLocalError\u001b[0m: local variable 'x' referenced before assignment"
          ]
        }
      ]
    },
    {
      "cell_type": "code",
      "metadata": {
        "id": "PlI2iLiqDH7W",
        "colab_type": "code",
        "colab": {
          "base_uri": "https://localhost:8080/",
          "height": 34
        },
        "outputId": "dab3ab81-38dc-44ec-8b84-e81668d14d89"
      },
      "source": [
        "a = tableau()\n",
        "print(a)"
      ],
      "execution_count": 110,
      "outputs": [
        {
          "output_type": "stream",
          "text": [
            "1\n"
          ],
          "name": "stdout"
        }
      ]
    },
    {
      "cell_type": "code",
      "metadata": {
        "id": "7lOjDVf0ivUM",
        "colab_type": "code",
        "colab": {}
      },
      "source": [
        ""
      ],
      "execution_count": 0,
      "outputs": []
    }
  ]
}