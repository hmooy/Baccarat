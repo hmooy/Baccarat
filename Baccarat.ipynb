{
  "nbformat": 4,
  "nbformat_minor": 0,
  "metadata": {
    "kernelspec": {
      "display_name": "Python 3",
      "language": "python",
      "name": "python3"
    },
    "language_info": {
      "codemirror_mode": {
        "name": "ipython",
        "version": 3
      },
      "file_extension": ".py",
      "mimetype": "text/x-python",
      "name": "python",
      "nbconvert_exporter": "python",
      "pygments_lexer": "ipython3",
      "version": "3.7.5"
    },
    "colab": {
      "name": "Baccarat.ipynb",
      "provenance": []
    }
  },
  "cells": [
    {
      "cell_type": "code",
      "metadata": {
        "id": "WnQPWQ3kQGf1",
        "colab_type": "code",
        "colab": {}
      },
      "source": [
        "import random\n",
        "from random import shuffle\n",
        "\n",
        "def game():\n",
        "  deck = deck_numerical()\n",
        "  shuffled_deck = shuffled(deck)\n",
        "  z = []\n",
        "\n",
        "  while len(shuffled_deck) > 20:\n",
        "    \n",
        "    player_card1 = card(shuffled_deck)\n",
        "    bank_card1 = card(shuffled_deck)\n",
        "    player_card2 = card(shuffled_deck)\n",
        "    bank_card2 = card(shuffled_deck)\n",
        "    \n",
        "    player_two_cards = two_cards(player_card1, player_card2)\n",
        "    bank_two_cards = two_cards(bank_card1, bank_card2)\n",
        "\n",
        "    x = tableau(player_two_cards, bank_two_cards, shuffled_deck)\n",
        "    \n",
        "    z.append(x)\n",
        "      \n",
        "  return z\n",
        "\n",
        "  \n"
      ],
      "execution_count": 0,
      "outputs": []
    },
    {
      "cell_type": "code",
      "metadata": {
        "id": "fPvJud9bTj8w",
        "colab_type": "code",
        "colab": {}
      },
      "source": [
        "def deck_numerical():\n",
        "    \n",
        "    deck = []\n",
        "    \n",
        "    \n",
        "    for i in range(1,10):\n",
        "        deck.append(i)\n",
        "        deck.append(i)\n",
        "        deck.append(i)\n",
        "        deck.append(i)\n",
        "    \n",
        "    x = 10\n",
        "    for i in range(16):\n",
        "        deck.append(x)\n",
        "    \n",
        "    return deck\n",
        "  "
      ],
      "execution_count": 0,
      "outputs": []
    },
    {
      "cell_type": "code",
      "metadata": {
        "id": "pGwlWPf_QGf5",
        "colab_type": "code",
        "colab": {}
      },
      "source": [
        "\n",
        "def shuffled(d):\n",
        "\n",
        "    eight_decks = []\n",
        "\n",
        "    eight_decks = d*8\n",
        "\n",
        "    random.shuffle(eight_decks)\n",
        "\n",
        "    return eight_decks\n"
      ],
      "execution_count": 0,
      "outputs": []
    },
    {
      "cell_type": "code",
      "metadata": {
        "id": "pKX3-qSqX1pX",
        "colab_type": "code",
        "colab": {}
      },
      "source": [
        "def card(shuffled_deck):\n",
        "\n",
        "  card = shuffled_deck.pop()\n",
        "  if card == 10:\n",
        "    card = 0\n",
        "\n",
        "  return card\n"
      ],
      "execution_count": 0,
      "outputs": []
    },
    {
      "cell_type": "code",
      "metadata": {
        "id": "2Ctarf7eQGf8",
        "colab_type": "code",
        "colab": {}
      },
      "source": [
        "def two_cards(card1, card2):\n",
        "    \n",
        "    total = card1 + card2\n",
        "    if total >= 10:\n",
        "      total = total - 10\n",
        "    \n",
        "    return total\n"
      ],
      "execution_count": 0,
      "outputs": []
    },
    {
      "cell_type": "code",
      "metadata": {
        "id": "Yl1tcJtkZi3c",
        "colab_type": "code",
        "colab": {}
      },
      "source": [
        "def cards_result(p, b):\n",
        "  \n",
        "  if p >= 10:\n",
        "    p = p - 10\n",
        "  if b >= 10:\n",
        "    b = b - 10\n",
        "\n",
        "  if p > b:\n",
        "    result = 1\n",
        "  if p < b:\n",
        "    result = -1\n",
        "  elif p == b:\n",
        "    result = 0\n",
        "  \n",
        "  \n",
        "  return result"
      ],
      "execution_count": 0,
      "outputs": []
    },
    {
      "cell_type": "code",
      "metadata": {
        "id": "NwwTYkIpQGf9",
        "colab_type": "code",
        "colab": {}
      },
      "source": [
        "def tableau(p, b, s):\n",
        "    \n",
        "    #Natural\n",
        "     # Natural\n",
        "    if p in (8, 9) or b in(8, 9):\n",
        "     \n",
        "      return cards_result(p, b)\n",
        "      \n",
        "\n",
        "    # Player Six - Seven\n",
        "    elif p in (7, 6) and b in (7,6):\n",
        "      return cards_result(p, b)\n",
        "    elif p in (7, 6) and b in (5,4,3,2,1,0):\n",
        "      bank_3_cards = b + card(s)\n",
        "      if bank_3_cards >= 10:\n",
        "        bank_3_cards = bank_3_cards - 10\n",
        "        return cards_result(p, bank_3_cards)\n",
        "      else :\n",
        "        return cards_result(p, bank_3_cards)\n",
        "      \n",
        "    # Player 0 - 5\n",
        "    elif p <= 5:\n",
        "      player_3_cards = p + card(s)\n",
        "       \n",
        "      if b == 7:\n",
        "        \n",
        "        return cards_result(player_3_cards, b)\n",
        "      \n",
        "      elif b in (0,1,2):\n",
        "        bank_3_cards = b + card(s)\n",
        "        \n",
        "        return cards_result(player_3_cards, bank_3_cards)\n",
        "      \n",
        "      elif b == 3:\n",
        "        if player_3_cards != 8:\n",
        "          bank_3_cards = b + card(s)\n",
        "          \n",
        "          return cards_result(player_3_cards, bank_3_cards)\n",
        "        else :\n",
        "          \n",
        "          return cards_result(player_3_cards, b)\n",
        "      \n",
        "      elif b == 4:\n",
        "        if player_3_cards in (2,3,4,5,6,7):\n",
        "          bank_3_cards = b + card(s)\n",
        "          \n",
        "          return cards_result(player_3_cards, bank_3_cards)\n",
        "        else :\n",
        "          \n",
        "          return cards_result(player_3_cards, b)\n",
        "     \n",
        "      elif b == 5:\n",
        "        if player_3_cards in (4,5,6,7):\n",
        "          bank_3_cards = b + card(s)\n",
        "          \n",
        "          return cards_result(player_3_cards, bank_3_cards)\n",
        "        else :\n",
        "          \n",
        "          return cards_result(player_3_cards, b)\n",
        "     \n",
        "      elif b == 6:\n",
        "        if player_3_cards in (6,7):\n",
        "          bank_3_cards = b + card(s)\n",
        "          \n",
        "          return cards_result(player_3_cards, bank_3_cards)\n",
        "        else :\n",
        "          \n",
        "          return cards_result(player_3_cards, b)\n",
        "\n",
        "      \n",
        "          \n",
        "\n",
        "    "
      ],
      "execution_count": 0,
      "outputs": []
    },
    {
      "cell_type": "code",
      "metadata": {
        "id": "LMjO42TAVtK5",
        "colab_type": "code",
        "colab": {
          "base_uri": "https://localhost:8080/",
          "height": 34
        },
        "outputId": "82d69ad6-052a-4f8e-bd0c-93f7f60262b5"
      },
      "source": [
        "type(z)"
      ],
      "execution_count": 438,
      "outputs": [
        {
          "output_type": "execute_result",
          "data": {
            "text/plain": [
              "list"
            ]
          },
          "metadata": {
            "tags": []
          },
          "execution_count": 438
        }
      ]
    },
    {
      "cell_type": "code",
      "metadata": {
        "id": "Gy4IF-RNYgvJ",
        "colab_type": "code",
        "colab": {}
      },
      "source": [
        "def sampling(n):\n",
        "  \n",
        "  total_player = []\n",
        "  total_banker = []\n",
        "  total_tie = []\n",
        "  \n",
        "  for i in range(n):\n",
        "    \n",
        "    y = game()\n",
        "    p = y.count(1)\n",
        "    b = y.count(-1)\n",
        "    t = y.count(0)\n",
        "\n",
        "    total_player.append(p)\n",
        "    total_banker.append(b)\n",
        "    total_tie.append(t)\n",
        "\n",
        "  return (total_player, total_banker, total_tie)"
      ],
      "execution_count": 0,
      "outputs": []
    },
    {
      "cell_type": "code",
      "metadata": {
        "id": "Aplc6AD2Zvf4",
        "colab_type": "code",
        "colab": {
          "base_uri": "https://localhost:8080/",
          "height": 68
        },
        "outputId": "d79b10f8-1421-4796-d8bf-37918b59ccae"
      },
      "source": [
        "sampling(15)"
      ],
      "execution_count": 443,
      "outputs": [
        {
          "output_type": "execute_result",
          "data": {
            "text/plain": [
              "([38, 41, 39, 45, 37, 35, 32, 34, 43, 37, 40, 35, 42, 41, 37],\n",
              " [40, 34, 37, 32, 33, 33, 36, 38, 27, 37, 36, 39, 34, 31, 37],\n",
              " [2, 7, 7, 2, 11, 12, 11, 10, 9, 8, 6, 4, 6, 7, 6])"
            ]
          },
          "metadata": {
            "tags": []
          },
          "execution_count": 443
        }
      ]
    },
    {
      "cell_type": "code",
      "metadata": {
        "id": "iKdUYYu0doRw",
        "colab_type": "code",
        "colab": {}
      },
      "source": [
        ""
      ],
      "execution_count": 0,
      "outputs": []
    },
    {
      "cell_type": "code",
      "metadata": {
        "id": "wMTQ2RHlfMid",
        "colab_type": "code",
        "colab": {}
      },
      "source": [
        ""
      ],
      "execution_count": 0,
      "outputs": []
    }
  ]
}